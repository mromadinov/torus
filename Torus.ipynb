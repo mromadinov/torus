{
 "cells": [
  {
   "cell_type": "code",
   "execution_count": 164,
   "metadata": {},
   "outputs": [],
   "source": [
    "from math import sqrt, pi, log\n",
    "\n",
    "import scipy.integrate as integrate\n",
    "\n",
    "G = 6.6743015e-11\n",
    "\n",
    "def calcMass(R, r, rho0):\n",
    "    return 2*pi*pi*R*r*r*rho0\n",
    "\n",
    "def calcOmega(R, r, rho0):\n",
    "    Mr = calcMass(R, r, rho0)\n",
    "    print(\"Mr = %f\" % Mr)\n",
    "    ai = sqrt(Mr/(R*rho0))/(4*pi)\n",
    "    a12 = ai * sqrt(8)\n",
    "    return sqrt(G*Mr*Mr/(2*pi*(R**3))*(log(8*R/a12)-2))\n",
    "\n",
    "def calcYear(Rorb, Msun):\n",
    "    return sqrt(4*pi*pi*(Rorb**3)/(G*Msun))\n",
    "\n",
    "def calcg(R, r, rho):\n",
    "    Mr = calcMass(R, r, rho0)\n",
    "        \n",
    "    ii = integrate.quad(lambda theta: 1.0/((R-R*cos(theta/2.0)+r)**2+(R*sin(theta/2.0)**2)), 0, pi)\n",
    "    \n",
    "    return G*Mr/pi*ii[0]"
   ]
  },
  {
   "cell_type": "code",
   "execution_count": 159,
   "metadata": {},
   "outputs": [],
   "source": [
    "# Toroid parameters:\n",
    "R = 20000e+3\n",
    "r=1e+3\n",
    "rho0 = 917\n",
    "\n",
    "# Orbit params\n",
    "Rorb = 1.496e+11\n",
    "Msun = 1.58e+30"
   ]
  },
  {
   "cell_type": "code",
   "execution_count": 165,
   "metadata": {},
   "outputs": [
    {
     "name": "stdout",
     "output_type": "stream",
     "text": [
      "Mr = 362017089431957632.000000\n",
      "rps = 6.633553\n",
      "3.62017E+17\n"
     ]
    }
   ],
   "source": [
    "omega = calcOmega(R, r, rho0)\n",
    "rps = omega/2/pi\n",
    "print(\"rps = %f\" % rps)\n",
    "\n",
    "mass = calcMass(R, r, rho0)\n",
    "print('{:.5E}'.format(mass))"
   ]
  },
  {
   "cell_type": "code",
   "execution_count": 151,
   "metadata": {},
   "outputs": [
    {
     "name": "stdout",
     "output_type": "stream",
     "text": [
      "Year Len = 35403467.874719 sec \n",
      "Year Len = 409.762360 earth days \n",
      "5.33703E+06\n"
     ]
    }
   ],
   "source": [
    "yearLen = calcYear(Rorb, Msun)\n",
    "earthDaysLen = yearLen /3600 /24\n",
    "print(\"Year Len = %f sec \" % yearLen) \n",
    "print(\"Year Len = %f earth days \" % earthDaysLen) \n",
    "\n",
    "torusDays = yearLen/rps\n",
    "print('{:.5E}'.format(torusDays))"
   ]
  },
  {
   "cell_type": "code",
   "execution_count": 147,
   "metadata": {},
   "outputs": [
    {
     "name": "stdout",
     "output_type": "stream",
     "text": [
      "0.12078184400643621\n"
     ]
    }
   ],
   "source": [
    "print(calcg(R, r, rho0))"
   ]
  },
  {
   "cell_type": "code",
   "execution_count": 155,
   "metadata": {},
   "outputs": [
    {
     "name": "stdout",
     "output_type": "stream",
     "text": [
      "Effective mass 3841120617789.120605\n",
      "3.84112E+12\n",
      "Lunar month = 12409320.038630\n",
      "143.6263893359918\n"
     ]
    }
   ],
   "source": [
    "Mlun = 1.81e+5\n",
    "RlunOrb = 1e+5\n",
    "\n",
    "# Assumption: sphere with r\n",
    "Meff = rho0*4/3*pi*r**3\n",
    "print(\"Effective mass %f\" % Meff)\n",
    "print('{:.5E}'.format(Meff))\n",
    "\n",
    "lunTurn = calcYear(RlunOrb, Meff)\n",
    "print(\"Lunar month = %f\" % lunTurn)\n",
    "\n",
    "print (lunTurn / 3600 /24 )"
   ]
  },
  {
   "cell_type": "code",
   "execution_count": 156,
   "metadata": {},
   "outputs": [
    {
     "name": "stdout",
     "output_type": "stream",
     "text": [
      "Lunar radius = 43.708822\n"
     ]
    }
   ],
   "source": [
    "rhoLun = 1000\n",
    "Rlun = exp(1.0/1.3*log(3*Mlun/(4*rhoLun)))\n",
    "print(\"Lunar radius = %f\" % Rlun)"
   ]
  },
  {
   "cell_type": "code",
   "execution_count": 157,
   "metadata": {},
   "outputs": [
    {
     "name": "stdout",
     "output_type": "stream",
     "text": [
      "RtoLunCrit = 9341199.768059\n"
     ]
    }
   ],
   "source": [
    "Rsun = 0.7e+6\n",
    "RtoLunCrit = Rorb*Rlun/Rsun\n",
    "print(\"RtoLunCrit = %f\" % RtoLunCrit)"
   ]
  },
  {
   "cell_type": "code",
   "execution_count": null,
   "metadata": {},
   "outputs": [],
   "source": []
  }
 ],
 "metadata": {
  "kernelspec": {
   "display_name": "Python 3",
   "language": "python",
   "name": "python3"
  },
  "language_info": {
   "codemirror_mode": {
    "name": "ipython",
    "version": 3
   },
   "file_extension": ".py",
   "mimetype": "text/x-python",
   "name": "python",
   "nbconvert_exporter": "python",
   "pygments_lexer": "ipython3",
   "version": "3.7.1"
  }
 },
 "nbformat": 4,
 "nbformat_minor": 2
}
